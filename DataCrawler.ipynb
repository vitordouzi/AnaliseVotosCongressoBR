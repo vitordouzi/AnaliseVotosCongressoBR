{
 "cells": [
  {
   "cell_type": "code",
   "execution_count": 1,
   "metadata": {},
   "outputs": [],
   "source": [
    "import xml.etree.ElementTree as ET\n",
    "import urllib.request, urllib.parse, urllib.error\n",
    "from tqdm import tqdm_notebook\n",
    "from datetime import date\n",
    "from collections import namedtuple\n",
    "from collections import Counter\n",
    "import re\n",
    "from time import sleep"
   ]
  },
  {
   "cell_type": "code",
   "execution_count": 2,
   "metadata": {},
   "outputs": [],
   "source": [
    "Proposition = namedtuple('Proposition', ['data_votacao', 'cod', 'tipo', 'numero', 'ano_proposicao'])\n",
    "def getPropositionsInYear(year):\n",
    "    props = []\n",
    "    url = 'http://www.camara.gov.br/SitCamaraWS/Proposicoes.asmx/ListarProposicoesVotadasEmPlenario?ano=' + str(year) + '&tipo='\n",
    "    document = urllib.request.urlopen (url).read()\n",
    "    root = ET.fromstring(document)\n",
    "    for prop in root.findall('proposicao'):\n",
    "        cod = prop.find('codProposicao').text\n",
    "        nome = prop.find('nomeProposicao').text\n",
    "        content = nome.split()\n",
    "        tipo = content[0]\n",
    "        content = content[1].split('/')\n",
    "        numero = content[0]\n",
    "        ano_proposicao = content[1]\n",
    "        data_votacao = prop.find('dataVotacao').text\n",
    "        h = cod + ano_proposicao\n",
    "        props.append(Proposition(data_votacao, cod, tipo, numero, ano_proposicao))\n",
    "    return props\n",
    "def get_votos(prop): \n",
    "    url = 'http://www.camara.gov.br/SitCamaraWS/Proposicoes.asmx/ObterVotacaoProposicao?tipo=' + prop.tipo + '&numero=' + prop.numero + '&ano=' + prop.ano_proposicao\n",
    "    tries = 0\n",
    "    while tries < 10:\n",
    "        try:\n",
    "            votos = []\n",
    "            document = urllib.request.urlopen(url).read()\n",
    "            root = ET.fromstring(document)\n",
    "            for votacoes in root.findall('Votacoes'):\n",
    "                for votacao in votacoes.findall('Votacao'):\n",
    "                    hora = votacao.get('Hora').strip()\n",
    "                    data = votacao.get('Data').strip()\n",
    "                    codSessao = votacao.get('codSessao').strip()\n",
    "                    for vote in votacao.find('votos'):\n",
    "                        voto = vote.get('Voto').strip()\n",
    "                        if voto == '-':\n",
    "                            continue\n",
    "                        item = []\n",
    "                        item.append(prop.cod)\n",
    "                        item.append(prop.numero)\n",
    "                        item.append(prop.tipo)\n",
    "                        item.append(codSessao)\n",
    "                        item.append(hora + ' ' + data)\n",
    "                        item.append(vote.get('Nome').strip())\n",
    "                        item.append(vote.get('Partido').strip())\n",
    "                        item.append(vote.get('UF').strip())\n",
    "                        item.append(voto)\n",
    "                        votos.append(item)\n",
    "            break\n",
    "        except Exception as e:\n",
    "            tries += 1\n",
    "            if tries == 10:\n",
    "                print(tries, url, e)\n",
    "    #sleep(1)\n",
    "    return votos"
   ]
  },
  {
   "cell_type": "code",
   "execution_count": 3,
   "metadata": {},
   "outputs": [
    {
     "data": {
      "application/vnd.jupyter.widget-view+json": {
       "model_id": "7fbba763e963479394838f1bf6777ef3",
       "version_major": 2,
       "version_minor": 0
      },
      "text/plain": [
       "HBox(children=(IntProgress(value=0, description='Carregando', layout=Layout(flex='2'), max=29, style=ProgressS…"
      ]
     },
     "metadata": {},
     "output_type": "display_data"
    }
   ],
   "source": [
    "props = []\n",
    "for ano in tqdm_notebook(range(1991, date.today().year+1), position=1, desc='Carregando', ncols=700):\n",
    "    props.extend(getPropositionsInYear(ano))"
   ]
  },
  {
   "cell_type": "code",
   "execution_count": 4,
   "metadata": {},
   "outputs": [
    {
     "data": {
      "text/plain": [
       "(3624,\n",
       " [Proposition(data_votacao='17/12/1991', cod='20976', tipo='PL', numero='4580', ano_proposicao='1990'),\n",
       "  Proposition(data_votacao='07/11/1991', cod='167035', tipo='PDC', numero='63', ano_proposicao='1991'),\n",
       "  Proposition(data_votacao='28/06/1991', cod='167073', tipo='PDC', numero='66', ano_proposicao='1991'),\n",
       "  Proposition(data_votacao='19/09/1991', cod='167073', tipo='PDC', numero='66', ano_proposicao='1991'),\n",
       "  Proposition(data_votacao='04/09/1991', cod='167304', tipo='PDC', numero='87', ano_proposicao='1991')])"
      ]
     },
     "execution_count": 4,
     "metadata": {},
     "output_type": "execute_result"
    }
   ],
   "source": [
    "len(props), props[:5]"
   ]
  },
  {
   "cell_type": "code",
   "execution_count": 5,
   "metadata": {},
   "outputs": [],
   "source": [
    "from multiprocessing import cpu_count\n",
    "from multiprocessing import Pool"
   ]
  },
  {
   "cell_type": "code",
   "execution_count": 6,
   "metadata": {
    "scrolled": true
   },
   "outputs": [
    {
     "data": {
      "application/vnd.jupyter.widget-view+json": {
       "model_id": "3652796659c04f378eefc83f007f2e41",
       "version_major": 2,
       "version_minor": 0
      },
      "text/plain": [
       "HBox(children=(IntProgress(value=0, max=3624), HTML(value='')))"
      ]
     },
     "metadata": {},
     "output_type": "display_data"
    },
    {
     "name": "stdout",
     "output_type": "stream",
     "text": [
      "10 http://www.camara.gov.br/SitCamaraWS/Proposicoes.asmx/ObterVotacaoProposicao?tipo=REQ&numero=12&ano=2012 HTTP Error 400: Bad Request\n",
      "10 http://www.camara.gov.br/SitCamaraWS/Proposicoes.asmx/ObterVotacaoProposicao?tipo=REQ&numero=12&ano=2012 HTTP Error 400: Bad Request\n",
      "10 http://www.camara.gov.br/SitCamaraWS/Proposicoes.asmx/ObterVotacaoProposicao?tipo=REQ&numero=12&ano=2012 HTTP Error 400: Bad Request\n",
      "10 http://www.camara.gov.br/SitCamaraWS/Proposicoes.asmx/ObterVotacaoProposicao?tipo=REQ&numero=12&ano=2012 HTTP Error 400: Bad Request\n",
      "10 http://www.camara.gov.br/SitCamaraWS/Proposicoes.asmx/ObterVotacaoProposicao?tipo=REQ&numero=12&ano=2012 HTTP Error 400: Bad Request\n",
      "10 http://www.camara.gov.br/SitCamaraWS/Proposicoes.asmx/ObterVotacaoProposicao?tipo=REQ&numero=12&ano=2012 HTTP Error 400: Bad Request\n",
      "10 http://www.camara.gov.br/SitCamaraWS/Proposicoes.asmx/ObterVotacaoProposicao?tipo=REQ&numero=12&ano=2012 HTTP Error 400: Bad Request\n",
      "10 http://www.camara.gov.br/SitCamaraWS/Proposicoes.asmx/ObterVotacaoProposicao?tipo=REQ&numero=12&ano=2012 HTTP Error 400: Bad Request\n",
      "10 http://www.camara.gov.br/SitCamaraWS/Proposicoes.asmx/ObterVotacaoProposicao?tipo=REQ&numero=12&ano=2012 HTTP Error 400: Bad Request\n",
      "10 http://www.camara.gov.br/SitCamaraWS/Proposicoes.asmx/ObterVotacaoProposicao?tipo=REQ&numero=12&ano=2012 HTTP Error 400: Bad Request\n",
      "10 http://www.camara.gov.br/SitCamaraWS/Proposicoes.asmx/ObterVotacaoProposicao?tipo=REQ&numero=12&ano=2012 HTTP Error 400: Bad Request\n",
      "10 http://www.camara.gov.br/SitCamaraWS/Proposicoes.asmx/ObterVotacaoProposicao?tipo=REQ&numero=12&ano=2012 HTTP Error 400: Bad Request\n",
      "10 http://www.camara.gov.br/SitCamaraWS/Proposicoes.asmx/ObterVotacaoProposicao?tipo=REQ&numero=12&ano=2012 HTTP Error 400: Bad Request\n",
      "10 http://www.camara.gov.br/SitCamaraWS/Proposicoes.asmx/ObterVotacaoProposicao?tipo=REQ&numero=12&ano=2012 HTTP Error 400: Bad Request\n",
      "10 http://www.camara.gov.br/SitCamaraWS/Proposicoes.asmx/ObterVotacaoProposicao?tipo=REQ&numero=12&ano=2012 HTTP Error 400: Bad Request\n",
      "10 http://www.camara.gov.br/SitCamaraWS/Proposicoes.asmx/ObterVotacaoProposicao?tipo=REQ&numero=12&ano=2012 HTTP Error 400: Bad Request\n",
      "10 http://www.camara.gov.br/SitCamaraWS/Proposicoes.asmx/ObterVotacaoProposicao?tipo=REQ&numero=12&ano=2012 HTTP Error 400: Bad Request\n",
      "10 http://www.camara.gov.br/SitCamaraWS/Proposicoes.asmx/ObterVotacaoProposicao?tipo=REQ&numero=12&ano=2012 HTTP Error 400: Bad Request\n",
      "10 http://www.camara.gov.br/SitCamaraWS/Proposicoes.asmx/ObterVotacaoProposicao?tipo=REQ&numero=8&ano=2013 HTTP Error 400: Bad Request\n",
      "10 http://www.camara.gov.br/SitCamaraWS/Proposicoes.asmx/ObterVotacaoProposicao?tipo=REQ&numero=8&ano=2013 HTTP Error 400: Bad Request\n",
      "10 http://www.camara.gov.br/SitCamaraWS/Proposicoes.asmx/ObterVotacaoProposicao?tipo=REQ&numero=8&ano=2013 HTTP Error 400: Bad Request\n",
      "10 http://www.camara.gov.br/SitCamaraWS/Proposicoes.asmx/ObterVotacaoProposicao?tipo=REQ&numero=8&ano=2013 HTTP Error 400: Bad Request\n",
      "10 http://www.camara.gov.br/SitCamaraWS/Proposicoes.asmx/ObterVotacaoProposicao?tipo=REQ&numero=8&ano=2013 HTTP Error 400: Bad Request\n",
      "10 http://www.camara.gov.br/SitCamaraWS/Proposicoes.asmx/ObterVotacaoProposicao?tipo=REQ&numero=8&ano=2013 HTTP Error 400: Bad Request\n",
      "10 http://www.camara.gov.br/SitCamaraWS/Proposicoes.asmx/ObterVotacaoProposicao?tipo=REQ&numero=8&ano=2013 HTTP Error 400: Bad Request\n",
      "10 http://www.camara.gov.br/SitCamaraWS/Proposicoes.asmx/ObterVotacaoProposicao?tipo=REQ&numero=8&ano=2013 HTTP Error 400: Bad Request\n",
      "10 http://www.camara.gov.br/SitCamaraWS/Proposicoes.asmx/ObterVotacaoProposicao?tipo=REQ&numero=8&ano=2013 HTTP Error 400: Bad Request\n",
      "10 http://www.camara.gov.br/SitCamaraWS/Proposicoes.asmx/ObterVotacaoProposicao?tipo=REQ&numero=8&ano=2013 HTTP Error 400: Bad Request\n",
      "10 http://www.camara.gov.br/SitCamaraWS/Proposicoes.asmx/ObterVotacaoProposicao?tipo=REQ&numero=8&ano=2013 HTTP Error 400: Bad Request\n",
      "10 http://www.camara.gov.br/SitCamaraWS/Proposicoes.asmx/ObterVotacaoProposicao?tipo=REQ&numero=8&ano=2013 HTTP Error 400: Bad Request\n",
      "10 http://www.camara.gov.br/SitCamaraWS/Proposicoes.asmx/ObterVotacaoProposicao?tipo=REQ&numero=8&ano=2013 HTTP Error 400: Bad Request\n",
      "10 http://www.camara.gov.br/SitCamaraWS/Proposicoes.asmx/ObterVotacaoProposicao?tipo=REQ&numero=8&ano=2013 HTTP Error 400: Bad Request\n",
      "10 http://www.camara.gov.br/SitCamaraWS/Proposicoes.asmx/ObterVotacaoProposicao?tipo=REQ&numero=8&ano=2013 HTTP Error 400: Bad Request\n",
      "10 http://www.camara.gov.br/SitCamaraWS/Proposicoes.asmx/ObterVotacaoProposicao?tipo=REQ&numero=8&ano=2013 HTTP Error 400: Bad Request\n",
      "10 http://www.camara.gov.br/SitCamaraWS/Proposicoes.asmx/ObterVotacaoProposicao?tipo=REQ&numero=8&ano=2013 HTTP Error 400: Bad Request\n",
      "10 http://www.camara.gov.br/SitCamaraWS/Proposicoes.asmx/ObterVotacaoProposicao?tipo=REQ&numero=8&ano=2013 HTTP Error 400: Bad Request\n",
      "10 http://www.camara.gov.br/SitCamaraWS/Proposicoes.asmx/ObterVotacaoProposicao?tipo=REQ&numero=8&ano=2013 HTTP Error 400: Bad Request\n",
      "10 http://www.camara.gov.br/SitCamaraWS/Proposicoes.asmx/ObterVotacaoProposicao?tipo=REQ&numero=8&ano=2013 HTTP Error 400: Bad Request\n",
      "10 http://www.camara.gov.br/SitCamaraWS/Proposicoes.asmx/ObterVotacaoProposicao?tipo=REQ&numero=567&ano=2015 HTTP Error 400: Bad Request\n",
      "10 http://www.camara.gov.br/SitCamaraWS/Proposicoes.asmx/ObterVotacaoProposicao?tipo=REQ&numero=739&ano=2015 HTTP Error 400: Bad Request\n",
      "10 http://www.camara.gov.br/SitCamaraWS/Proposicoes.asmx/ObterVotacaoProposicao?tipo=REQ&numero=784&ano=2015 HTTP Error 400: Bad Request\n",
      "10 http://www.camara.gov.br/SitCamaraWS/Proposicoes.asmx/ObterVotacaoProposicao?tipo=REQ&numero=796&ano=2015 HTTP Error 400: Bad Request\n",
      "10 http://www.camara.gov.br/SitCamaraWS/Proposicoes.asmx/ObterVotacaoProposicao?tipo=REQ&numero=894&ano=2015 HTTP Error 400: Bad Request\n",
      "10 http://www.camara.gov.br/SitCamaraWS/Proposicoes.asmx/ObterVotacaoProposicao?tipo=REQ&numero=1030&ano=2015 HTTP Error 400: Bad Request\n",
      "10 http://www.camara.gov.br/SitCamaraWS/Proposicoes.asmx/ObterVotacaoProposicao?tipo=REQ&numero=1041&ano=2015 HTTP Error 400: Bad Request\n",
      "10 http://www.camara.gov.br/SitCamaraWS/Proposicoes.asmx/ObterVotacaoProposicao?tipo=REQ&numero=1108&ano=2015 HTTP Error 400: Bad Request\n",
      "10 http://www.camara.gov.br/SitCamaraWS/Proposicoes.asmx/ObterVotacaoProposicao?tipo=REQ&numero=1117&ano=2015 HTTP Error 400: Bad Request\n",
      "10 http://www.camara.gov.br/SitCamaraWS/Proposicoes.asmx/ObterVotacaoProposicao?tipo=REQ&numero=1118&ano=2015 HTTP Error 400: Bad Request\n",
      "10 http://www.camara.gov.br/SitCamaraWS/Proposicoes.asmx/ObterVotacaoProposicao?tipo=REQ&numero=1121&ano=2015 HTTP Error 400: Bad Request\n",
      "10 http://www.camara.gov.br/SitCamaraWS/Proposicoes.asmx/ObterVotacaoProposicao?tipo=REQ&numero=1125&ano=2015 HTTP Error 400: Bad Request\n",
      "10 http://www.camara.gov.br/SitCamaraWS/Proposicoes.asmx/ObterVotacaoProposicao?tipo=REQ&numero=1126&ano=2015 HTTP Error 400: Bad Request\n",
      "10 http://www.camara.gov.br/SitCamaraWS/Proposicoes.asmx/ObterVotacaoProposicao?tipo=REQ&numero=1129&ano=2015 HTTP Error 400: Bad Request\n",
      "10 http://www.camara.gov.br/SitCamaraWS/Proposicoes.asmx/ObterVotacaoProposicao?tipo=REQ&numero=567&ano=2015 HTTP Error 400: Bad Request\n",
      "10 http://www.camara.gov.br/SitCamaraWS/Proposicoes.asmx/ObterVotacaoProposicao?tipo=REQ&numero=784&ano=2015 HTTP Error 400: Bad Request\n",
      "10 http://www.camara.gov.br/SitCamaraWS/Proposicoes.asmx/ObterVotacaoProposicao?tipo=REQ&numero=739&ano=2015 HTTP Error 400: Bad Request\n",
      "10 http://www.camara.gov.br/SitCamaraWS/Proposicoes.asmx/ObterVotacaoProposicao?tipo=REQ&numero=796&ano=2015 HTTP Error 400: Bad Request\n",
      "10 http://www.camara.gov.br/SitCamaraWS/Proposicoes.asmx/ObterVotacaoProposicao?tipo=REQ&numero=894&ano=2015 HTTP Error 400: Bad Request\n",
      "10 http://www.camara.gov.br/SitCamaraWS/Proposicoes.asmx/ObterVotacaoProposicao?tipo=REQ&numero=1030&ano=2015 HTTP Error 400: Bad Request\n",
      "10 http://www.camara.gov.br/SitCamaraWS/Proposicoes.asmx/ObterVotacaoProposicao?tipo=REQ&numero=1041&ano=2015 HTTP Error 400: Bad Request\n",
      "10 http://www.camara.gov.br/SitCamaraWS/Proposicoes.asmx/ObterVotacaoProposicao?tipo=REQ&numero=1108&ano=2015 HTTP Error 400: Bad Request\n",
      "10 http://www.camara.gov.br/SitCamaraWS/Proposicoes.asmx/ObterVotacaoProposicao?tipo=REQ&numero=1117&ano=2015 HTTP Error 400: Bad Request\n"
     ]
    },
    {
     "name": "stdout",
     "output_type": "stream",
     "text": [
      "10 http://www.camara.gov.br/SitCamaraWS/Proposicoes.asmx/ObterVotacaoProposicao?tipo=REQ&numero=1118&ano=2015 HTTP Error 400: Bad Request\n",
      "10 http://www.camara.gov.br/SitCamaraWS/Proposicoes.asmx/ObterVotacaoProposicao?tipo=REQ&numero=1121&ano=2015 HTTP Error 400: Bad Request\n",
      "10 http://www.camara.gov.br/SitCamaraWS/Proposicoes.asmx/ObterVotacaoProposicao?tipo=REQ&numero=1125&ano=2015 HTTP Error 400: Bad Request\n",
      "10 http://www.camara.gov.br/SitCamaraWS/Proposicoes.asmx/ObterVotacaoProposicao?tipo=REQ&numero=1129&ano=2015 HTTP Error 400: Bad Request\n",
      "10 http://www.camara.gov.br/SitCamaraWS/Proposicoes.asmx/ObterVotacaoProposicao?tipo=REQ&numero=1126&ano=2015 HTTP Error 400: Bad Request\n",
      "\n",
      "10 http://www.camara.gov.br/SitCamaraWS/Proposicoes.asmx/ObterVotacaoProposicao?tipo=REQ&numero=7&ano=2017 HTTP Error 400: Bad Request\n",
      "10 http://www.camara.gov.br/SitCamaraWS/Proposicoes.asmx/ObterVotacaoProposicao?tipo=REQ&numero=7&ano=2017 HTTP Error 400: Bad Request\n",
      "10 http://www.camara.gov.br/SitCamaraWS/Proposicoes.asmx/ObterVotacaoProposicao?tipo=REQ&numero=7&ano=2017 HTTP Error 400: Bad Request\n",
      "10 http://www.camara.gov.br/SitCamaraWS/Proposicoes.asmx/ObterVotacaoProposicao?tipo=REQ&numero=7&ano=2017 HTTP Error 400: Bad Request\n",
      "10 http://www.camara.gov.br/SitCamaraWS/Proposicoes.asmx/ObterVotacaoProposicao?tipo=REQ&numero=7&ano=2017 HTTP Error 400: Bad Request\n",
      "10 http://www.camara.gov.br/SitCamaraWS/Proposicoes.asmx/ObterVotacaoProposicao?tipo=REQ&numero=7&ano=2017 HTTP Error 400: Bad Request\n",
      "10 http://www.camara.gov.br/SitCamaraWS/Proposicoes.asmx/ObterVotacaoProposicao?tipo=REQ&numero=7&ano=2017 HTTP Error 400: Bad Request\n",
      "10 http://www.camara.gov.br/SitCamaraWS/Proposicoes.asmx/ObterVotacaoProposicao?tipo=REQ&numero=7&ano=2017 HTTP Error 400: Bad Request\n",
      "10 http://www.camara.gov.br/SitCamaraWS/Proposicoes.asmx/ObterVotacaoProposicao?tipo=REQ&numero=7&ano=2017 HTTP Error 400: Bad Request\n",
      "10 http://www.camara.gov.br/SitCamaraWS/Proposicoes.asmx/ObterVotacaoProposicao?tipo=REQ&numero=7&ano=2017 HTTP Error 400: Bad Request\n",
      "10 http://www.camara.gov.br/SitCamaraWS/Proposicoes.asmx/ObterVotacaoProposicao?tipo=REQ&numero=7&ano=2017 HTTP Error 400: Bad Request\n",
      "10 http://www.camara.gov.br/SitCamaraWS/Proposicoes.asmx/ObterVotacaoProposicao?tipo=REQ&numero=7&ano=2017 HTTP Error 400: Bad Request\n",
      "10 http://www.camara.gov.br/SitCamaraWS/Proposicoes.asmx/ObterVotacaoProposicao?tipo=REQ&numero=7&ano=2017 HTTP Error 400: Bad Request\n",
      "10 http://www.camara.gov.br/SitCamaraWS/Proposicoes.asmx/ObterVotacaoProposicao?tipo=REQ&numero=7&ano=2017 HTTP Error 400: Bad Request\n",
      "10 http://www.camara.gov.br/SitCamaraWS/Proposicoes.asmx/ObterVotacaoProposicao?tipo=REQ&numero=7&ano=2017 HTTP Error 400: Bad Request\n",
      "10 http://www.camara.gov.br/SitCamaraWS/Proposicoes.asmx/ObterVotacaoProposicao?tipo=REQ&numero=7&ano=2017 HTTP Error 400: Bad Request\n",
      "10 http://www.camara.gov.br/SitCamaraWS/Proposicoes.asmx/ObterVotacaoProposicao?tipo=REQ&numero=7&ano=2017 HTTP Error 400: Bad Request\n",
      "10 http://www.camara.gov.br/SitCamaraWS/Proposicoes.asmx/ObterVotacaoProposicao?tipo=REQ&numero=7&ano=2017 HTTP Error 400: Bad Request\n",
      "10 http://www.camara.gov.br/SitCamaraWS/Proposicoes.asmx/ObterVotacaoProposicao?tipo=REQ&numero=7&ano=2017 HTTP Error 400: Bad Request\n",
      "10 http://www.camara.gov.br/SitCamaraWS/Proposicoes.asmx/ObterVotacaoProposicao?tipo=REQ&numero=7&ano=2017 HTTP Error 400: Bad Request\n",
      "10 http://www.camara.gov.br/SitCamaraWS/Proposicoes.asmx/ObterVotacaoProposicao?tipo=REQ&numero=7&ano=2017 HTTP Error 400: Bad Request\n"
     ]
    }
   ],
   "source": [
    "with Pool(processes=cpu_count()) as p:\n",
    "    all_votes = list(p.imap_unordered(get_votos, tqdm_notebook(props, total=len(props))))"
   ]
  },
  {
   "cell_type": "code",
   "execution_count": 7,
   "metadata": {},
   "outputs": [
    {
     "data": {
      "text/plain": [
       "16992733"
      ]
     },
     "execution_count": 7,
     "metadata": {},
     "output_type": "execute_result"
    }
   ],
   "source": [
    "# ATUALMENTE EXISTEM 16992733\n",
    "sum([len(vote) for vote in all_votes])"
   ]
  },
  {
   "cell_type": "code",
   "execution_count": 14,
   "metadata": {},
   "outputs": [
    {
     "data": {
      "application/vnd.jupyter.widget-view+json": {
       "model_id": "9e6c68d34e994c06acebfa3cb198cd46",
       "version_major": 2,
       "version_minor": 0
      },
      "text/plain": [
       "HBox(children=(IntProgress(value=0, max=3624), HTML(value='')))"
      ]
     },
     "metadata": {},
     "output_type": "display_data"
    },
    {
     "name": "stdout",
     "output_type": "stream",
     "text": [
      "\n"
     ]
    },
    {
     "data": {
      "text/plain": [
       "16992733"
      ]
     },
     "execution_count": 14,
     "metadata": {},
     "output_type": "execute_result"
    }
   ],
   "source": [
    "all_votes_2 = []\n",
    "for prop_votes in tqdm_notebook(all_votes, total=len(all_votes)):\n",
    "    all_votes_2.extend(prop_votes)\n",
    "len(all_votes_2)"
   ]
  },
  {
   "cell_type": "code",
   "execution_count": 15,
   "metadata": {},
   "outputs": [],
   "source": [
    "fn = 'data/votos.csv.gz'\n",
    "columns = ['cod_prop', 'num_prop', 'tipo', 'codSessao', 'data_hora', 'nome_dep', 'partido', 'uf', 'voto']"
   ]
  },
  {
   "cell_type": "code",
   "execution_count": null,
   "metadata": {},
   "outputs": [],
   "source": []
  },
  {
   "cell_type": "code",
   "execution_count": 16,
   "metadata": {},
   "outputs": [
    {
     "data": {
      "text/plain": [
       "16992733"
      ]
     },
     "execution_count": 16,
     "metadata": {},
     "output_type": "execute_result"
    }
   ],
   "source": [
    "len(all_votes_2)"
   ]
  },
  {
   "cell_type": "code",
   "execution_count": 17,
   "metadata": {},
   "outputs": [
    {
     "data": {
      "text/html": [
       "<div>\n",
       "<style scoped>\n",
       "    .dataframe tbody tr th:only-of-type {\n",
       "        vertical-align: middle;\n",
       "    }\n",
       "\n",
       "    .dataframe tbody tr th {\n",
       "        vertical-align: top;\n",
       "    }\n",
       "\n",
       "    .dataframe thead th {\n",
       "        text-align: right;\n",
       "    }\n",
       "</style>\n",
       "<table border=\"1\" class=\"dataframe\">\n",
       "  <thead>\n",
       "    <tr style=\"text-align: right;\">\n",
       "      <th></th>\n",
       "      <th>cod_prop</th>\n",
       "      <th>num_prop</th>\n",
       "      <th>tipo</th>\n",
       "      <th>codSessao</th>\n",
       "      <th>data_hora</th>\n",
       "      <th>nome_dep</th>\n",
       "      <th>partido</th>\n",
       "      <th>uf</th>\n",
       "      <th>voto</th>\n",
       "    </tr>\n",
       "  </thead>\n",
       "  <tbody>\n",
       "    <tr>\n",
       "      <th>0</th>\n",
       "      <td>167035</td>\n",
       "      <td>63</td>\n",
       "      <td>PDC</td>\n",
       "      <td>2081</td>\n",
       "      <td>17:05 7/11/1991</td>\n",
       "      <td>Alceste Almeida</td>\n",
       "      <td>PTB</td>\n",
       "      <td>RR</td>\n",
       "      <td>Não</td>\n",
       "    </tr>\n",
       "    <tr>\n",
       "      <th>1</th>\n",
       "      <td>167035</td>\n",
       "      <td>63</td>\n",
       "      <td>PDC</td>\n",
       "      <td>2081</td>\n",
       "      <td>17:05 7/11/1991</td>\n",
       "      <td>Júlio Cabral</td>\n",
       "      <td>PTR</td>\n",
       "      <td>RR</td>\n",
       "      <td>Abstenção</td>\n",
       "    </tr>\n",
       "    <tr>\n",
       "      <th>2</th>\n",
       "      <td>167035</td>\n",
       "      <td>63</td>\n",
       "      <td>PDC</td>\n",
       "      <td>2081</td>\n",
       "      <td>17:05 7/11/1991</td>\n",
       "      <td>João Fagundes</td>\n",
       "      <td>PMDB</td>\n",
       "      <td>RR</td>\n",
       "      <td>Sim</td>\n",
       "    </tr>\n",
       "    <tr>\n",
       "      <th>3</th>\n",
       "      <td>167035</td>\n",
       "      <td>63</td>\n",
       "      <td>PDC</td>\n",
       "      <td>2081</td>\n",
       "      <td>17:05 7/11/1991</td>\n",
       "      <td>Marcelo Luz</td>\n",
       "      <td>PTR</td>\n",
       "      <td>RR</td>\n",
       "      <td>Sim</td>\n",
       "    </tr>\n",
       "    <tr>\n",
       "      <th>4</th>\n",
       "      <td>167035</td>\n",
       "      <td>63</td>\n",
       "      <td>PDC</td>\n",
       "      <td>2081</td>\n",
       "      <td>17:05 7/11/1991</td>\n",
       "      <td>Gilvan Borges</td>\n",
       "      <td>PMDB</td>\n",
       "      <td>AP</td>\n",
       "      <td>Não</td>\n",
       "    </tr>\n",
       "  </tbody>\n",
       "</table>\n",
       "</div>"
      ],
      "text/plain": [
       "  cod_prop num_prop tipo codSessao        data_hora         nome_dep partido  \\\n",
       "0   167035       63  PDC      2081  17:05 7/11/1991  Alceste Almeida     PTB   \n",
       "1   167035       63  PDC      2081  17:05 7/11/1991     Júlio Cabral     PTR   \n",
       "2   167035       63  PDC      2081  17:05 7/11/1991    João Fagundes    PMDB   \n",
       "3   167035       63  PDC      2081  17:05 7/11/1991      Marcelo Luz     PTR   \n",
       "4   167035       63  PDC      2081  17:05 7/11/1991    Gilvan Borges    PMDB   \n",
       "\n",
       "   uf       voto  \n",
       "0  RR        Não  \n",
       "1  RR  Abstenção  \n",
       "2  RR        Sim  \n",
       "3  RR        Sim  \n",
       "4  AP        Não  "
      ]
     },
     "execution_count": 17,
     "metadata": {},
     "output_type": "execute_result"
    }
   ],
   "source": [
    "import pandas as pd\n",
    "df = pd.DataFrame(all_votes_2, columns=columns)\n",
    "df.head()"
   ]
  },
  {
   "cell_type": "code",
   "execution_count": 18,
   "metadata": {},
   "outputs": [],
   "source": [
    "df.to_csv(fn, compression='gzip')"
   ]
  },
  {
   "cell_type": "code",
   "execution_count": 11,
   "metadata": {},
   "outputs": [
    {
     "data": {
      "application/vnd.jupyter.widget-view+json": {
       "model_id": "a94c25b49933418ab32e0a330aab7998",
       "version_major": 2,
       "version_minor": 0
      },
      "text/plain": [
       "HBox(children=(IntProgress(value=0, max=3624), HTML(value='')))"
      ]
     },
     "metadata": {},
     "output_type": "display_data"
    },
    {
     "name": "stdout",
     "output_type": "stream",
     "text": [
      "\n"
     ]
    }
   ],
   "source": [
    "import gzip\n",
    "with gzip.open(fn, 'wt') as fout:\n",
    "    fout.write(','.join(columns))\n",
    "    for prop_votes in tqdm_notebook(all_votes, total=len(all_votes)):\n",
    "        for row in prop_votes:\n",
    "            fout.write(','.join(row))"
   ]
  },
  {
   "cell_type": "code",
   "execution_count": null,
   "metadata": {},
   "outputs": [],
   "source": []
  },
  {
   "cell_type": "code",
   "execution_count": null,
   "metadata": {},
   "outputs": [],
   "source": [
    "df2 = df[df['voto'].str.contains(\"Sim|Não|Branco|Obstrução\")]"
   ]
  },
  {
   "cell_type": "code",
   "execution_count": null,
   "metadata": {},
   "outputs": [],
   "source": [
    "df.shape[0] - df2.shape[0]"
   ]
  },
  {
   "cell_type": "code",
   "execution_count": null,
   "metadata": {},
   "outputs": [],
   "source": [
    "all_votes_2 = list(map(get_votos, tqdm_notebook(props, total=len(props))))"
   ]
  },
  {
   "cell_type": "code",
   "execution_count": null,
   "metadata": {},
   "outputs": [],
   "source": [
    "df.head()"
   ]
  },
  {
   "cell_type": "code",
   "execution_count": null,
   "metadata": {},
   "outputs": [],
   "source": [
    "def get_votes(proposition):\n",
    "    ori,objs_votacao = get_orientacoes(proposition)\n",
    "    items = []\n",
    "    for obj_voto in objs_votacao:\n",
    "        for vote in obj_voto.find('votos'):\n",
    "            item = []\n",
    "            item.append(proposition.cod)\n",
    "            item.append(proposition.numero)\n",
    "            item.append(obj_voto.get('codSessao'))\n",
    "            item.append(obj_voto.get('Data') + ' ' + obj_voto.get('Hora'))\n",
    "            item.append(vote.get('Nome'))\n",
    "            item.append(vote.get('Partido').strip())\n",
    "            item.append(vote.get('UF'))\n",
    "            item.append(vote.get('Voto'))\n",
    "            items.append(item)\n",
    "    return items"
   ]
  },
  {
   "cell_type": "code",
   "execution_count": null,
   "metadata": {},
   "outputs": [],
   "source": [
    "def flat_map(f, seq):\n",
    "    return sum(map(f,seq), [])"
   ]
  },
  {
   "cell_type": "code",
   "execution_count": null,
   "metadata": {},
   "outputs": [],
   "source": [
    "aaa = flat_map(get_votes, tqdm_notebook(props, total=len(props)))"
   ]
  },
  {
   "cell_type": "code",
   "execution_count": null,
   "metadata": {},
   "outputs": [],
   "source": [
    "aaa"
   ]
  },
  {
   "cell_type": "code",
   "execution_count": null,
   "metadata": {},
   "outputs": [],
   "source": []
  },
  {
   "cell_type": "code",
   "execution_count": null,
   "metadata": {},
   "outputs": [],
   "source": [
    "df"
   ]
  },
  {
   "cell_type": "code",
   "execution_count": null,
   "metadata": {
    "scrolled": true
   },
   "outputs": [],
   "source": [
    "all_votes = []\n",
    "for prop in tqdm_notebook(props, total=len(props)):\n",
    "    ori,objs_votacao = get_orientacoes(prop)\n",
    "    for obj_voto in objs_votacao:\n",
    "        for vote in obj_voto.find('votos'):\n",
    "            item = []\n",
    "            item.append(prop.cod)\n",
    "            item.append(prop.numero)\n",
    "            item.append(obj_voto.get('codSessao'))\n",
    "            item.append(obj_voto.get('Data'))\n",
    "            item.append(obj_voto.get('Hora'))\n",
    "            item.append(vote.get('Hora'))\n",
    "            item.append(vote.get('Partido'))\n",
    "            item.append(vote.get('UF'))\n",
    "            item.append(vote.get('Voto'))\n",
    "            all_votes.append(item)"
   ]
  },
  {
   "cell_type": "code",
   "execution_count": null,
   "metadata": {},
   "outputs": [],
   "source": [
    "objs_votacao[0].find('votos')[2].keys()"
   ]
  },
  {
   "cell_type": "code",
   "execution_count": null,
   "metadata": {},
   "outputs": [],
   "source": [
    "objs_votacao[0].find('votos')[2].get('Partido')"
   ]
  },
  {
   "cell_type": "code",
   "execution_count": null,
   "metadata": {},
   "outputs": [],
   "source": [
    "objs_votacao[0].keys()"
   ]
  },
  {
   "cell_type": "code",
   "execution_count": null,
   "metadata": {},
   "outputs": [],
   "source": [
    "id_s = 0\n",
    "for obj_voto in objs_votacao:\n",
    "    print(obj_voto.get('codSessao'), obj_voto.get('Data'), obj_voto.get('Hora'), obj_voto.get('Resumo'))"
   ]
  },
  {
   "cell_type": "code",
   "execution_count": null,
   "metadata": {},
   "outputs": [],
   "source": [
    "xmlstr = ET.tostring(objs_votacao[1], encoding='utf8', method='xml')\n",
    "print(str(xmlstr))"
   ]
  },
  {
   "cell_type": "code",
   "execution_count": null,
   "metadata": {},
   "outputs": [],
   "source": [
    "reversed_props = list(reversed(props))\n",
    "orientacoes = []\n",
    "for prop in tqdm_notebook(reversed_props, position=1, desc='Carregando', ncols=700):\n",
    "    orientacoes.extend(get_orientacoes(prop))"
   ]
  },
  {
   "cell_type": "code",
   "execution_count": null,
   "metadata": {},
   "outputs": [],
   "source": [
    "print(orientacoes[0])\n",
    "with open('data/orientacoes.csv', 'w') as fout:\n",
    "    for orientacao in orientacoes:\n",
    "        fout.write('%s\\t%s\\t%s\\t%s\\t%s\\n' % (orientacao.data_votacao,\n",
    "                                             orientacao.cod_prop,\n",
    "                                             orientacao.cod_sessao,\n",
    "                                             orientacao.sigla,\n",
    "                                             orientacao.orientacao)) "
   ]
  },
  {
   "cell_type": "code",
   "execution_count": null,
   "metadata": {},
   "outputs": [],
   "source": [
    "def filter_bancada(orientacoes):\n",
    "    orientacoes_filtered = []\n",
    "    for orientacao in tqdm_notebook(orientacoes, desc=\"Initial Filter\"):\n",
    "        if '/' in orientacao.sigla:\n",
    "            for sigla in orientacao.sigla.split('/'):\n",
    "                orientacoes_filtered.append(\n",
    "                    Orientacao(orientacao.data_votacao,\n",
    "                               orientacao.cod_prop,\n",
    "                               orientacao.cod_sessao,\n",
    "                               sigla,\n",
    "                               orientacao.orientacao))\n",
    "        elif 'Repr.' in orientacao.sigla:\n",
    "            orientacoes_filtered.append(\n",
    "                Orientacao(orientacao.data_votacao,\n",
    "                           orientacao.cod_prop,\n",
    "                           orientacao.cod_sessao,\n",
    "                           orientacao.sigla.replace('Repr.',''),\n",
    "                           orientacao.orientacao)\n",
    "            )\n",
    "        else:\n",
    "            orientacoes_filtered.append(orientacao)\n",
    "    orientacoes_filtered2 = []\n",
    "    parties = ['Pmdb', 'Psd', 'Pt', 'Dem', 'Pen', 'Pan', 'Pv', 'Sd', 'Pros', 'Pps', 'Psdc',\n",
    "               'Psdb', 'PTdoB', 'Ptb', 'Psl', 'Ptc', 'Ptn', 'Pp', 'Psb', 'Pdt',\n",
    "               'Pcdob', 'Psc', 'Pode', 'Podemos', 'PCdoB', 'Avante', 'Phs', 'PtdoB', 'Ptdob',\n",
    "               'Prb', 'Prtb', 'Prp', 'Pr', 'Pmn']\n",
    "    for orientacao in tqdm_notebook(orientacoes_filtered, desc=\"Split bancada\"):\n",
    "        for party in sorted(parties, key=lambda x: len(x), reverse=True):\n",
    "            if party in orientacao.sigla:\n",
    "                orientacoes_filtered2.append(\n",
    "                    Orientacao(orientacao.data_votacao,\n",
    "                               orientacao.cod_prop,\n",
    "                               orientacao.cod_sessao,\n",
    "                               party.upper(),\n",
    "                               orientacao.orientacao))\n",
    "                orientacao = Orientacao(orientacao.data_votacao,\n",
    "                       orientacao.cod_prop,\n",
    "                       orientacao.cod_sessao,\n",
    "                       orientacao.sigla.replace(party,'_'),\n",
    "                       orientacao.orientacao)\n",
    "        orientacoes_filtered2.append(orientacao)\n",
    "    orientacoes_filtered = orientacoes_filtered2.copy()\n",
    "    orientacoes_filtered2 = []\n",
    "    for orientacao in tqdm_notebook(list(orientacoes_filtered), desc=\"Apply aliases\"):\n",
    "        if \"_\" in orientacao.sigla:\n",
    "            continue\n",
    "        elif 'Minoria' == orientacao.sigla or 'Maioria' == orientacao.sigla:\n",
    "            orientacoes_filtered2.append(\n",
    "                Orientacao(orientacao.data_votacao,\n",
    "                           orientacao.cod_prop,\n",
    "                           orientacao.cod_sessao,\n",
    "                           orientacao.sigla.upper(),\n",
    "                           orientacao.orientacao)\n",
    "            )\n",
    "        elif 'MDB' == orientacao.sigla:\n",
    "            orientacoes_filtered2.append(\n",
    "                Orientacao(orientacao.data_votacao,\n",
    "                           orientacao.cod_prop,\n",
    "                           orientacao.cod_sessao,\n",
    "                           'PMDB',\n",
    "                           orientacao.orientacao)\n",
    "            )\n",
    "        elif 'SDD' == orientacao.sigla or 'Solidaried' == orientacao.sigla :\n",
    "            orientacoes_filtered2.append(\n",
    "                Orientacao(orientacao.data_votacao,\n",
    "                           orientacao.cod_prop,\n",
    "                           orientacao.cod_sessao,\n",
    "                           'SD',\n",
    "                           orientacao.orientacao)\n",
    "            )\n",
    "        elif 'PODE' == orientacao.sigla:\n",
    "            orientacoes_filtered2.append(\n",
    "                Orientacao(orientacao.data_votacao,\n",
    "                           orientacao.cod_prop,\n",
    "                           orientacao.cod_sessao,\n",
    "                           'PODEMOS',\n",
    "                           orientacao.orientacao)\n",
    "            )\n",
    "        else:\n",
    "            orientacoes_filtered2.append(orientacao)\n",
    "    return orientacoes_filtered2"
   ]
  },
  {
   "cell_type": "code",
   "execution_count": null,
   "metadata": {
    "scrolled": true
   },
   "outputs": [],
   "source": [
    "bancadas = set([orientacao.sigla for orientacao in orientacoes])\n",
    "sorted(list(bancadas), key=lambda x: len(x), reverse=True)"
   ]
  },
  {
   "cell_type": "code",
   "execution_count": null,
   "metadata": {},
   "outputs": [],
   "source": [
    "orientacoes_filtered = filter_bancada(orientacoes)"
   ]
  },
  {
   "cell_type": "code",
   "execution_count": null,
   "metadata": {},
   "outputs": [],
   "source": [
    "bancadas = Counter([orientacao.sigla for orientacao in orientacoes_filtered])\n",
    "sorted(bancadas.items(), key=lambda x: x[1], reverse=True)"
   ]
  },
  {
   "cell_type": "code",
   "execution_count": null,
   "metadata": {},
   "outputs": [],
   "source": [
    "len(orientacoes_filtered)"
   ]
  },
  {
   "cell_type": "code",
   "execution_count": null,
   "metadata": {},
   "outputs": [],
   "source": [
    "with open('data/orientacoes-filtered.csv', 'w') as fout:\n",
    "    for orientacao in orientacoes_filtered:\n",
    "        fout.write('%s\\t%s\\t%s\\t%s\\t%s\\n' % (orientacao.data_votacao,\n",
    "                                             orientacao.cod_prop,\n",
    "                                             orientacao.cod_sessao,\n",
    "                                             orientacao.sigla,\n",
    "                                             orientacao.orientacao)) "
   ]
  },
  {
   "cell_type": "code",
   "execution_count": null,
   "metadata": {},
   "outputs": [],
   "source": [
    "import pandas as pd\n",
    "from sklearn.preprocessing import LabelEncoder"
   ]
  },
  {
   "cell_type": "code",
   "execution_count": null,
   "metadata": {},
   "outputs": [],
   "source": [
    "df = pd.DataFrame( [ [ ori.data_votacao, ori.cod_prop, ori.sigla, ori.orientacao  ] for ori in orientacoes_filtered ],\n",
    "                  columns=['data_votacao', 'cod_prop', 'sigla', 'orientacao'] )\n",
    "parties = list(set(df['sigla']))\n",
    "le = LabelEncoder()\n",
    "df['orientacao'] = le.fit_transform(df['orientacao'])\n",
    "#df['data_votacao'] = df['data_votacao'].apply( lambda x: x.split('/')[-1] )\n",
    "df = df.pivot_table(index=['data_votacao','cod_prop'], columns=['sigla'], values=['orientacao'], aggfunc='first' )"
   ]
  },
  {
   "cell_type": "code",
   "execution_count": null,
   "metadata": {},
   "outputs": [],
   "source": [
    "df.head()"
   ]
  },
  {
   "cell_type": "code",
   "execution_count": null,
   "metadata": {},
   "outputs": [],
   "source": [
    "from sklearn.decomposition import PCA\n",
    "import matplotlib.pyplot as plt\n",
    "from sklearn.preprocessing import Imputer\n",
    "\n",
    "X = df['orientacao'].as_matrix().T\n",
    "imp = Imputer(axis=1)\n",
    "X = imp.fit_transform(X)\n",
    "\n",
    "pca = PCA(n_components=2)\n",
    "X_r = pca.fit(X).transform(X)"
   ]
  },
  {
   "cell_type": "code",
   "execution_count": null,
   "metadata": {},
   "outputs": [],
   "source": [
    "colors = ['gray', 'navy', 'turquoise', 'darkorange', 'red']\n",
    "parties.index('PT'), parties.index('PSDB'), parties.index('PMDB'), parties.index('PSL') \n",
    "\n",
    "def def_col(i, parties):\n",
    "    if i == parties.index('PT'):\n",
    "        return 'red'\n",
    "    if i == parties.index('PSOL'):\n",
    "        return 'darkred'\n",
    "    if i == parties.index('PSDB'):\n",
    "        return 'turquoise'\n",
    "    if i == parties.index('PMDB'):\n",
    "        return 'green'\n",
    "    if i == parties.index('PSL'):\n",
    "        return 'blue'\n",
    "    return 'gray'\n",
    "\n",
    "all_colors = [ def_col(i, parties) for i,col in enumerate(X_r) ]\n"
   ]
  },
  {
   "cell_type": "code",
   "execution_count": null,
   "metadata": {},
   "outputs": [],
   "source": [
    "plt.scatter(X_r.T[0], X_r.T[1], color=all_colors)"
   ]
  },
  {
   "cell_type": "code",
   "execution_count": null,
   "metadata": {},
   "outputs": [],
   "source": [
    "df = pd.DataFrame( [ [ ori.data_votacao, ori.cod_prop, ori.sigla, ori.orientacao  ] for ori in orientacoes_filtered ],\n",
    "                  columns=['data_votacao', 'cod_prop', 'sigla', 'orientacao'] )\n",
    "parties = list(set(df['sigla']))\n",
    "le = LabelEncoder()\n",
    "df['orientacao'] = le.fit_transform(df['orientacao'])\n",
    "df['data_votacao'] = df['data_votacao'].apply( lambda x: x.split('/')[-1] )\n",
    "df = df.pivot_table(index=['cod_prop'], columns=['sigla','data_votacao'], values=['orientacao'], aggfunc='first' )\n",
    "df.head()"
   ]
  },
  {
   "cell_type": "code",
   "execution_count": null,
   "metadata": {},
   "outputs": [],
   "source": [
    "df['orientacao'].head().T.head()"
   ]
  },
  {
   "cell_type": "code",
   "execution_count": null,
   "metadata": {
    "scrolled": true
   },
   "outputs": [],
   "source": [
    "df"
   ]
  },
  {
   "cell_type": "code",
   "execution_count": null,
   "metadata": {},
   "outputs": [],
   "source": [
    "for year, group_year in df.T.groupby('data_votacao'):\n",
    "    \n",
    "    group_year = group_year.fillna(value=0)\n",
    "    group_year = group_year.loc[:, (group_year.sum(axis=0) != 0.)]\n",
    "    X = group_year.as_matrix()\n",
    "    imp = Imputer(axis=1)\n",
    "    X = imp.fit_transform(X)\n",
    "\n",
    "    pca = PCA(n_components=8 )\n",
    "    X_r = pca.fit(X).transform(X)\n",
    "    \n",
    "    print(group_year)\n",
    "    "
   ]
  },
  {
   "cell_type": "code",
   "execution_count": null,
   "metadata": {},
   "outputs": [],
   "source": [
    "group_sigla"
   ]
  },
  {
   "cell_type": "code",
   "execution_count": null,
   "metadata": {},
   "outputs": [],
   "source": [
    "X = df['orientacao'].fillna(value=-1).as_matrix().T\n",
    "\n",
    "pca = PCA(n_components = 50, svd_solver = 'full')\n",
    "X_r_50 = pca.fit(X).transform(X)\n",
    "\n",
    "pca = PCA(n_components=2)\n",
    "X_r_2 = pca.fit(X_r_50).transform(X_r_50)"
   ]
  },
  {
   "cell_type": "code",
   "execution_count": null,
   "metadata": {
    "scrolled": true
   },
   "outputs": [],
   "source": [
    "df['orientacao']"
   ]
  },
  {
   "cell_type": "code",
   "execution_count": null,
   "metadata": {},
   "outputs": [],
   "source": [
    "def def_col_df(party):\n",
    "    if party == 'PT':\n",
    "        return 'red'\n",
    "    if party == 'PSOL':\n",
    "        return 'darkred'\n",
    "    if party == 'PSDB':\n",
    "        return 'turquoise'\n",
    "    if party == 'PMDB':\n",
    "        return 'green'\n",
    "    if party == 'PSL':\n",
    "        return 'blue'\n",
    "    return 'gray'\n",
    "import numpy as np"
   ]
  },
  {
   "cell_type": "code",
   "execution_count": null,
   "metadata": {},
   "outputs": [],
   "source": [
    "df_X_r_2 = pd.DataFrame(X_r_2)\n",
    "parties_df, year_df = list(zip(*df['orientacao'].T.index))\n",
    "df_X_r_2['parties'] = list(parties_df)\n",
    "df_X_r_2['year'] = list(year_df)"
   ]
  },
  {
   "cell_type": "code",
   "execution_count": null,
   "metadata": {
    "scrolled": true
   },
   "outputs": [],
   "source": [
    "from collections import Counter\n",
    "sorted(Counter(df_X_r_2['parties']).items(), key=lambda x: x[1],  reverse=True)"
   ]
  },
  {
   "cell_type": "code",
   "execution_count": null,
   "metadata": {
    "scrolled": false
   },
   "outputs": [],
   "source": [
    "for year, group in df_X_r_2.groupby('year'):\n",
    "    #plt.scatter(X_r.T[0], X_r.T[1], color=all_colors)\n",
    "    cols = [def_col_df(party) for party in list(group['parties'])]\n",
    "    group.plot.scatter(x=0, y=1, title=year, colors=cols)\n",
    "    \n",
    "    #all_colors = [ def_col(i, group[parties]) for i,col in enumerate(group[parties]) ]"
   ]
  },
  {
   "cell_type": "code",
   "execution_count": null,
   "metadata": {},
   "outputs": [],
   "source": [
    "df_X_r_2"
   ]
  },
  {
   "cell_type": "code",
   "execution_count": null,
   "metadata": {},
   "outputs": [],
   "source": [
    "df3['data_votacao']"
   ]
  }
 ],
 "metadata": {
  "kernelspec": {
   "display_name": "Python 3",
   "language": "python",
   "name": "python3"
  },
  "language_info": {
   "codemirror_mode": {
    "name": "ipython",
    "version": 3
   },
   "file_extension": ".py",
   "mimetype": "text/x-python",
   "name": "python",
   "nbconvert_exporter": "python",
   "pygments_lexer": "ipython3",
   "version": "3.6.8"
  }
 },
 "nbformat": 4,
 "nbformat_minor": 2
}
